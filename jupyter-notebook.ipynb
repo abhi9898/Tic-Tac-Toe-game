{
 "cells": [
  {
   "cell_type": "markdown",
   "metadata": {},
   "source": [
    "# Tic Tac Toe game\n"
   ]
  },
  {
   "cell_type": "markdown",
   "metadata": {},
   "source": [
    "## Game logic"
   ]
  },
  {
   "cell_type": "markdown",
   "metadata": {},
   "source": [
    "1. Create and display de board\n",
    "\n",
    "2. Assign markers for players and take input from players\n",
    "\n",
    "3. Upload the board with the input\n",
    "\n",
    "4. Check for won/lost, tied or ongoing game\n",
    "\n",
    "5. Swap turns - interaction between both players\n",
    "\n",
    "6. Clear the board\n",
    "\n",
    "7. Ask for replay\n"
   ]
  },
  {
   "cell_type": "markdown",
   "metadata": {},
   "source": [
    "## Function definitions"
   ]
  },
  {
   "cell_type": "code",
   "execution_count": 1,
   "metadata": {},
   "outputs": [],
   "source": [
    "from IPython.display import clear_output\n",
    "\n",
    "board = [\" \"] * 10\n",
    "\n",
    "def display_board(board):\n",
    "    clear_output()\n",
    "    print(\n",
    "        \" \" + board[7] + \" | \" + board[8] + \" | \" + board[9] + \"\\n\" +\n",
    "        \"-----------\\n\" +\n",
    "        \" \" + board[4] + \" | \" + board[5] + \" | \" + board[6] + \"\\n\" +\n",
    "        \"-----------\\n\" +\n",
    "        \" \" + board[1] + \" | \" + board[2] + \" | \" + board[3] + \"\\n\"\n",
    "    )"
   ]
  },
  {
   "cell_type": "code",
   "execution_count": 2,
   "metadata": {},
   "outputs": [
    {
     "name": "stdout",
     "output_type": "stream",
     "text": [
      "   |   |  \n",
      "-----------\n",
      "   |   |  \n",
      "-----------\n",
      "   |   |  \n",
      "\n"
     ]
    }
   ],
   "source": [
    "display_board(board)"
   ]
  },
  {
   "cell_type": "markdown",
   "metadata": {},
   "source": [
    "### Test\n",
    "for i in range(1,10):\n",
    "    if i % 2 != 0:\n",
    "        board[i] = \"X\"\n",
    "    else:\n",
    "        board[i] = \"O\"\n",
    "        \n",
    "display_board(board)"
   ]
  },
  {
   "cell_type": "code",
   "execution_count": 3,
   "metadata": {},
   "outputs": [],
   "source": [
    "def marker_input():\n",
    "    marker = \" \"\n",
    "    \n",
    "    while not (marker == \"X\" or marker == \"O\"): ## Same as: while marker != \"X\" and marker != \"O\":\n",
    "        marker = input(\"Player 1, select a marker (X or O): \").upper()\n",
    "        \n",
    "    if marker == \"X\":\n",
    "        return (\"X\",\"O\")\n",
    "    else:\n",
    "        return (\"O\",\"X\")"
   ]
  },
  {
   "cell_type": "markdown",
   "metadata": {},
   "source": [
    "marker_input()"
   ]
  },
  {
   "cell_type": "code",
   "execution_count": 4,
   "metadata": {},
   "outputs": [],
   "source": [
    "def place_marker(board, marker, position):\n",
    "    board[position] = marker"
   ]
  },
  {
   "cell_type": "markdown",
   "metadata": {},
   "source": [
    "### Test\n",
    "place_marker(board, \"$\", 5)\n",
    "\n",
    "display_board(board)"
   ]
  },
  {
   "cell_type": "code",
   "execution_count": 5,
   "metadata": {},
   "outputs": [],
   "source": [
    "def win_check(board, mark):\n",
    "    return(\n",
    "    board[7] == board[8] == board[9] == mark or\n",
    "    board[4] == board[5] == board[6] == mark or\n",
    "    board[1] == board[2] == board[3] == mark or\n",
    "        \n",
    "    board[1] == board[4] == board[7] == mark or\n",
    "    board[2] == board[5] == board[8] == mark or\n",
    "    board[3] == board[6] == board[9] == mark or\n",
    "    \n",
    "    board[1] == board[5] == board[9] == mark or\n",
    "    board[3] == board[5] == board[7] == mark\n",
    "    )"
   ]
  },
  {
   "cell_type": "markdown",
   "metadata": {},
   "source": [
    "### Test\n",
    "win_check(board,'X')"
   ]
  },
  {
   "cell_type": "code",
   "execution_count": 6,
   "metadata": {},
   "outputs": [],
   "source": [
    "import random\n",
    "\n",
    "def choose_first():\n",
    "    if random.randint(0,1) == 0:\n",
    "        return \"Player 2\"\n",
    "    else:\n",
    "        return \"Player 1\""
   ]
  },
  {
   "cell_type": "code",
   "execution_count": 7,
   "metadata": {},
   "outputs": [],
   "source": [
    "def space_check(board, position):\n",
    "        return board[position] == \" \""
   ]
  },
  {
   "cell_type": "markdown",
   "metadata": {},
   "source": [
    "### Test \n",
    "space_check(board, 5)"
   ]
  },
  {
   "cell_type": "code",
   "execution_count": 8,
   "metadata": {},
   "outputs": [],
   "source": [
    "def full_board_check(board):\n",
    "    for n in range(1,10):\n",
    "        if space_check(board, n):\n",
    "            return False\n",
    "    return True"
   ]
  },
  {
   "cell_type": "code",
   "execution_count": 9,
   "metadata": {},
   "outputs": [
    {
     "data": {
      "text/plain": [
       "False"
      ]
     },
     "execution_count": 9,
     "metadata": {},
     "output_type": "execute_result"
    }
   ],
   "source": [
    "full_board_check(board)"
   ]
  },
  {
   "cell_type": "markdown",
   "metadata": {},
   "source": [
    "full_board_check_2(board)"
   ]
  },
  {
   "cell_type": "code",
   "execution_count": 10,
   "metadata": {},
   "outputs": [],
   "source": [
    "def player_choice(board):\n",
    "    position = 0\n",
    "    \n",
    "    while position not in range(1,10) or not space_check(board, position):\n",
    "        position = int(input(\"Choose your next position: \"))\n",
    "        \n",
    "    return position"
   ]
  },
  {
   "cell_type": "markdown",
   "metadata": {},
   "source": [
    "player_choice(board)"
   ]
  },
  {
   "cell_type": "code",
   "execution_count": 11,
   "metadata": {},
   "outputs": [],
   "source": [
    "def replay():\n",
    "    return input(\"Do you want to play again? Enter Yes or No: \").lower().startswith(\"y\")"
   ]
  },
  {
   "cell_type": "markdown",
   "metadata": {},
   "source": [
    "## Workflow"
   ]
  },
  {
   "cell_type": "code",
   "execution_count": 12,
   "metadata": {},
   "outputs": [
    {
     "name": "stdout",
     "output_type": "stream",
     "text": [
      " O | X | O\n",
      "-----------\n",
      " X | X | O\n",
      "-----------\n",
      " X | O | X\n",
      "\n",
      "The game is a TIE!\n",
      "Do you want to play again? Enter Yes or No: n\n"
     ]
    }
   ],
   "source": [
    "print(\"Let's play Tic Tac Toe!\")\n",
    "\n",
    "while True:\n",
    "    # board reset\n",
    "    fBoard = [\" \"] * 10\n",
    "    player1_marker, player2_marker = marker_input()\n",
    "    \n",
    "    turn = choose_first()\n",
    "    print(\"\\n\" + turn + \" GOES FIRST.\")\n",
    "    \n",
    "    play_game = input(\"Are you ready? Enter Yes or No\")\n",
    "    \n",
    "    if play_game.lower()[0] == \"y\":\n",
    "        game_on = True\n",
    "    else:\n",
    "        game_on = False\n",
    "        \n",
    "    while game_on:\n",
    "        if turn == \"Player 1\":\n",
    "            display_board(fBoard)\n",
    "            position = player_choice(fBoard)\n",
    "            \n",
    "            place_marker(fBoard, player1_marker, position)\n",
    "            \n",
    "            if win_check(fBoard, player1_marker):\n",
    "                display_board(fBoard)\n",
    "                print('Player 1 WINS!')\n",
    "                game_on = False\n",
    "            else:\n",
    "                if full_board_check(fBoard):\n",
    "                    display_board(fBoard)\n",
    "                    print(\"The game is a TIE!\")\n",
    "                    break\n",
    "                else:\n",
    "                    turn = \"Player 2\"\n",
    "                \n",
    "        else: ## Player 2 turn\n",
    "            display_board(fBoard)\n",
    "            position = player_choice(fBoard)\n",
    "            \n",
    "            place_marker(fBoard, player2_marker, position)\n",
    "            \n",
    "            if win_check(fBoard, player2_marker):\n",
    "                display_board(fBoard)\n",
    "                print(\"Player 2 WINS!\")\n",
    "                game_on = False\n",
    "            else:\n",
    "                if full_board_check(fBoard):\n",
    "                    display_board(fBoard)\n",
    "                    print(\"The game is a TIE!\")\n",
    "                    break\n",
    "                else:\n",
    "                    turn = \"Player 1\"\n",
    "\n",
    "            \n",
    "    if not replay():\n",
    "        break"
   ]
  }
 ],
 "metadata": {
  "kernelspec": {
   "display_name": "Python 3",
   "language": "python",
   "name": "python3"
  },
  "language_info": {
   "codemirror_mode": {
    "name": "ipython",
    "version": 3
   },
   "file_extension": ".py",
   "mimetype": "text/x-python",
   "name": "python",
   "nbconvert_exporter": "python",
   "pygments_lexer": "ipython3",
   "version": "3.7.1"
  }
 },
 "nbformat": 4,
 "nbformat_minor": 2
}
